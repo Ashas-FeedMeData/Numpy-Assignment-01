{
 "cells": [
  {
   "cell_type": "code",
   "execution_count": null,
   "metadata": {},
   "outputs": [],
   "source": [
    "import numpy as np\n",
    "np.array\n",
    "np.vstack\n",
    "np.hstack\n",
    "np.row_stack\n",
    "np.column_stack\n",
    "np.dstack\n",
    "np.square\n",
    "np.exponent\n",
    "no.ceil \n",
    "np.floor \n",
    "np.maximum\n",
    "np.fmax\n",
    "np.isnan\n",
    "np.meshgrid\n",
    "np.identity\n",
    "arr.T\n",
    "arr.transpose\n",
    "np.identity\n",
    "np.nan \n",
    "# (20)"
   ]
  },
  {
   "cell_type": "code",
   "execution_count": null,
   "metadata": {},
   "outputs": [],
   "source": [
    "np.full_like(arr, numtoadd 5)\n",
    "np.empty\n",
    "np.ones\n",
    "np.zeros\n",
    "np.arange\n",
    ".ndim #(count the number of opening brackets )\n",
    ".dtype\n",
    ".size \n",
    ".itemsize #(length of each character size)\n",
    ".shape #(num of axis in each dimension)\n",
    "a.shape\n",
    ".reshape(arr, 10, 3)\n",
    "# (12)"
   ]
  },
  {
   "cell_type": "code",
   "execution_count": null,
   "metadata": {},
   "outputs": [],
   "source": [
    "a = np.array([1, 2, 3])\n",
    "np.sort(arr)\n",
    "np.linspace()\n",
    "dtype\n",
    "np.sort(arr)\n",
    "np.concatenate\n",
    "ndarray.ndim\n",
    "ndarray.size\n",
    "ndarray.shape\n",
    "a.reshape(3, 2)\n",
    "# (10) Total = 42"
   ]
  },
  {
   "cell_type": "code",
   "execution_count": null,
   "metadata": {},
   "outputs": [],
   "source": [
    "np.newaxis\n",
    "a2 = a[np.newaxis, :]\n",
    "row_vector = a[np.newaxis, :]\n",
    "row_vector.shape\n",
    "col_vector.shape\n",
    "np.nonzero()\n",
    "np.vstack()\n",
    "np.hstack()\n",
    "np.hsplit()\n",
    ".view()\n",
    "copy()\n",
    "\n",
    "# (11) Total (53)"
   ]
  }
 ],
 "metadata": {
  "kernelspec": {
   "display_name": "Python 3",
   "language": "python",
   "name": "python3"
  },
  "language_info": {
   "codemirror_mode": {
    "name": "ipython",
    "version": 3
   },
   "file_extension": ".py",
   "mimetype": "text/x-python",
   "name": "python",
   "nbconvert_exporter": "python",
   "pygments_lexer": "ipython3",
   "version": "3.7.6"
  }
 },
 "nbformat": 4,
 "nbformat_minor": 4
}
